{
 "cells": [
  {
   "cell_type": "markdown",
   "metadata": {},
   "source": [
    "# Utiliser un langage de programmation pour effectuer le bilan énergétique d’un système en mouvement."
   ]
  },
  {
   "cell_type": "code",
   "execution_count": 1,
   "metadata": {},
   "outputs": [],
   "source": [
    "import math\n",
    "import numpy as np\n",
    "import matplotlib.pyplot as plt"
   ]
  },
  {
   "cell_type": "markdown",
   "metadata": {},
   "source": [
    "### Calcul du vecteur vitesse\n",
    "vx[i] = (x[i+1] - x[i-1]) / (t[i+1] - t[i-1])\n",
    "\n",
    "vy[i] = (y[i+1] - y[i-1]) / (t[i+1] - t[i-1])\n",
    "\n",
    "On donne les valeurs suivantes \"aux extrémités\" :\n",
    "\n",
    "vx[0] = (x[1] - x[0]) / (t[1] - t[0])\n",
    "\n",
    "vx[-1] = (x[-1] - x[-2]) / (t[-1] - t[-2])"
   ]
  },
  {
   "cell_type": "code",
   "execution_count": 2,
   "metadata": {},
   "outputs": [],
   "source": [
    "def vitesse(x, y, t):\n",
    "    \"\"\" calcul des coordonnées de v \"\"\"\n",
    "    vx = [(x[1] - x[0]) / (t[1] - t[0])]\n",
    "    for i in range(1, len(x)-1):\n",
    "        vx.append((x[i+1] - x[i-1]) / (t[i+1] - t[i-1]))\n",
    "    vx.append((x[-1] - x[-2]) / (t[-1] - t[-2]))\n",
    "\n",
    "    vy = [(y[1] - y[0]) / (t[1] - t[0])]\n",
    "    for i in range(1, len(y)-1):\n",
    "        vy.append((y[i+1] - y[i-1]) / (t[i+1] - t[i-1]))\n",
    "    vy.append((y[-1] - y[-2]) / (t[-1] - t[-2]))\n",
    "    return vx, vy"
   ]
  },
  {
   "cell_type": "markdown",
   "metadata": {},
   "source": [
    "# Mouvement parabolique (théorie)\n",
    "On considère une bille lancée d'une hauteur h, avec un angle alpha par rapport à l'horizontale, et une vitesse intiale v0."
   ]
  },
  {
   "cell_type": "code",
   "execution_count": 3,
   "metadata": {},
   "outputs": [],
   "source": [
    "# hauteur de lancement (m)\n",
    "h = 5\n",
    "# angle en degré, puis conversion en radians\n",
    "alpha = 40\n",
    "alpha = np.radians(alpha) \n",
    "# vitesse initiale (m/s)\n",
    "v0 = 20\n",
    "# intensité de la pesanteur (m/s2)\n",
    "g = 9.8\n",
    "# masse (kg)\n",
    "m = 1 "
   ]
  },
  {
   "cell_type": "code",
   "execution_count": 4,
   "metadata": {},
   "outputs": [],
   "source": [
    "# création des instants\n",
    "t = np.linspace(0, 3, 30)"
   ]
  },
  {
   "cell_type": "code",
   "execution_count": 5,
   "metadata": {},
   "outputs": [],
   "source": [
    "# coordonnées de positions (x, y) en fonction du temps\n",
    "x = v0 * np.cos(alpha) * t\n",
    "\n",
    "y = -0.5 * g * t**2 + v0 * np.sin(alpha) * t + h\n",
    "\n",
    "# équation de la trajectoire\n",
    "traj = -0.5 * g * (x / (v0 * np.cos(alpha)))**2 + np.tan(alpha) * x + h"
   ]
  },
  {
   "cell_type": "code",
   "execution_count": 6,
   "metadata": {},
   "outputs": [
    {
     "data": {
      "text/plain": [
       "[<matplotlib.lines.Line2D at 0x7f70b393abe0>]"
      ]
     },
     "execution_count": 6,
     "metadata": {},
     "output_type": "execute_result"
    },
    {
     "data": {
      "image/png": "[encoded data removed]",
      "text/plain": [
       "<Figure size 432x288 with 1 Axes>"
      ]
     },
     "metadata": {},
     "output_type": "display_data"
    }
   ],
   "source": [
    "plt.scatter(x, y)\n",
    "plt.ylabel('y (m)')\n",
    "plt.xlabel('x (m)')\n",
    "plt.plot(x, traj, 'red')"
   ]
  },
  {
   "cell_type": "markdown",
   "metadata": {},
   "source": [
    "### Calcul des énergies cinétique, potentielle et mécanique\n",
    "Ec = 0.5 * m * v^2\n",
    "\n",
    "Ep = m * g * y\n",
    "\n",
    "Em = Ec + Ep"
   ]
  },
  {
   "cell_type": "code",
   "execution_count": 7,
   "metadata": {},
   "outputs": [],
   "source": [
    "def Ep(y, t, m):\n",
    "    return m * g * y\n",
    "\n",
    "def Ec(x, y, t, m):\n",
    "    vx, vy = vitesse(x, y, t)\n",
    "    # vx, vy sont des listes, à convertir éventuellement en np.array()\n",
    "    v = np.sqrt(np.array(vx)**2 + np.array(vy)**2)\n",
    "    return 0.5*m*v**2\n",
    "\n",
    "def Em(x, y, t, m):\n",
    "    return Ec(x, y, t, m) + Ep(y, t, m)"
   ]
  },
  {
   "cell_type": "code",
   "execution_count": 8,
   "metadata": {},
   "outputs": [],
   "source": [
    "ec, ep, em = Ec(x, y, t, m), Ep(y, t, m), Em(x, y, t, m)"
   ]
  },
  {
   "cell_type": "code",
   "execution_count": 9,
   "metadata": {},
   "outputs": [
    {
     "data": {
      "text/plain": [
       "<matplotlib.legend.Legend at 0x7f70afd08748>"
      ]
     },
     "execution_count": 9,
     "metadata": {},
     "output_type": "execute_result"
    },
    {
     "data": {
      "image/png": "[encoded data removed]",
      "text/plain": [
       "<Figure size 432x288 with 1 Axes>"
      ]
     },
     "metadata": {},
     "output_type": "display_data"
    }
   ],
   "source": [
    "plt.plot(t, ec, 'red', label='Ec')\n",
    "plt.plot(t, ep, 'blue', label='Ep')\n",
    "plt.plot(t, em, 'green', label='Em')\n",
    "\n",
    "plt.xlabel('t (s)')\n",
    "plt.ylabel('E (J)')\n",
    "\n",
    "plt.title('Évolution des énergies')\n",
    "plt.legend()"
   ]
  }
 ],
 "metadata": {
  "kernelspec": {
   "display_name": "Python 3",
   "language": "python",
   "name": "python3"
  },
  "language_info": {
   "codemirror_mode": {
    "name": "ipython",
    "version": 3
   },
   "file_extension": ".py",
   "mimetype": "text/x-python",
   "name": "python",
   "nbconvert_exporter": "python",
   "pygments_lexer": "ipython3",
   "version": "3.6.5"
  }
 },
 "nbformat": 4,
 "nbformat_minor": 2
}
