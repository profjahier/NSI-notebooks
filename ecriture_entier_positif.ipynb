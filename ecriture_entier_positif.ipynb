{
 "cells": [
  {
   "cell_type": "markdown",
   "metadata": {},
   "source": [
    "# Conversion décimal binaire"
   ]
  },
  {
   "cell_type": "code",
   "execution_count": 1,
   "metadata": {},
   "outputs": [],
   "source": [
    "def conversion_decimal_binaire(quotient):\n",
    "    if quotient == 0:\n",
    "        return '0'\n",
    "    else:\n",
    "        binaire = ''\n",
    "        while quotient != 0:\n",
    "            binaire += str(quotient % 2)\n",
    "            quotient //= 2\n",
    "        return binaire[::-1]"
   ]
  },
  {
   "cell_type": "code",
   "execution_count": 2,
   "metadata": {},
   "outputs": [
    {
     "data": {
      "text/plain": [
       "'101010'"
      ]
     },
     "execution_count": 2,
     "metadata": {},
     "output_type": "execute_result"
    }
   ],
   "source": [
    "conversion_decimal_binaire(42)"
   ]
  },
  {
   "cell_type": "code",
   "execution_count": 3,
   "metadata": {},
   "outputs": [
    {
     "name": "stdout",
     "output_type": "stream",
     "text": [
      "0_(10) = 0_(2)\n",
      "1_(10) = 1_(2)\n",
      "2_(10) = 10_(2)\n",
      "3_(10) = 11_(2)\n",
      "4_(10) = 100_(2)\n",
      "5_(10) = 101_(2)\n",
      "6_(10) = 110_(2)\n",
      "7_(10) = 111_(2)\n",
      "8_(10) = 1000_(2)\n",
      "9_(10) = 1001_(2)\n",
      "10_(10) = 1010_(2)\n",
      "11_(10) = 1011_(2)\n",
      "12_(10) = 1100_(2)\n",
      "13_(10) = 1101_(2)\n",
      "14_(10) = 1110_(2)\n",
      "15_(10) = 1111_(2)\n",
      "16_(10) = 10000_(2)\n"
     ]
    }
   ],
   "source": [
    "for i in range(17):\n",
    "    print(f\"{i}_(10) = {conversion_decimal_binaire(i)}_(2)\")"
   ]
  },
  {
   "cell_type": "markdown",
   "metadata": {},
   "source": [
    "# Conversion binaire décimal"
   ]
  },
  {
   "cell_type": "code",
   "execution_count": 4,
   "metadata": {},
   "outputs": [],
   "source": [
    "def conversion_binaire_decimal(binaire):\n",
    "    return sum([int(binaire[-1-i]) * 2**i for i in range(len(binaire))])"
   ]
  },
  {
   "cell_type": "code",
   "execution_count": 5,
   "metadata": {},
   "outputs": [
    {
     "data": {
      "text/plain": [
       "211"
      ]
     },
     "execution_count": 5,
     "metadata": {},
     "output_type": "execute_result"
    }
   ],
   "source": [
    "conversion_binaire_decimal('11010011')"
   ]
  },
  {
   "cell_type": "code",
   "execution_count": 6,
   "metadata": {},
   "outputs": [
    {
     "data": {
      "text/plain": [
       "153"
      ]
     },
     "execution_count": 6,
     "metadata": {},
     "output_type": "execute_result"
    }
   ],
   "source": [
    "conversion_binaire_decimal('10011001')"
   ]
  },
  {
   "cell_type": "code",
   "execution_count": 7,
   "metadata": {},
   "outputs": [
    {
     "name": "stdout",
     "output_type": "stream",
     "text": [
      "0_(2) = 0_(10)\n",
      "1_(2) = 1_(10)\n",
      "10_(2) = 2_(10)\n",
      "11_(2) = 3_(10)\n",
      "100_(2) = 4_(10)\n",
      "101_(2) = 5_(10)\n",
      "110_(2) = 6_(10)\n",
      "111_(2) = 7_(10)\n",
      "1000_(2) = 8_(10)\n",
      "1001_(2) = 9_(10)\n",
      "1010_(2) = 10_(10)\n",
      "1011_(2) = 11_(10)\n",
      "1100_(2) = 12_(10)\n",
      "1101_(2) = 13_(10)\n",
      "1110_(2) = 14_(10)\n",
      "1111_(2) = 15_(10)\n",
      "10000_(2) = 16_(10)\n"
     ]
    }
   ],
   "source": [
    "liste_binaire = [conversion_decimal_binaire(i) for i in range(17)]\n",
    "for binaire in liste_binaire:\n",
    "    print(f\"{binaire}_(2) = {conversion_binaire_decimal(binaire)}_(10)\")"
   ]
  },
  {
   "cell_type": "markdown",
   "metadata": {},
   "source": [
    "# Hexadécimal et binaire"
   ]
  },
  {
   "cell_type": "code",
   "execution_count": 8,
   "metadata": {},
   "outputs": [],
   "source": [
    "bin_hex = {'0000' : '0',\n",
    "          '0001' : '1',\n",
    "          '0010' : '2',\n",
    "          '0011' : '3',\n",
    "          '0100' : '4',\n",
    "          '0101' : '5',\n",
    "          '0110' : '6',\n",
    "          '0111' : '7',\n",
    "          '1000' : '8',\n",
    "          '1001' : '9',\n",
    "          '1010' : 'A',\n",
    "          '1011' : 'B',\n",
    "          '1100' : 'C',\n",
    "          '1101' : 'D',\n",
    "          '1110' : 'E',\n",
    "          '1111' : 'F',\n",
    "          }"
   ]
  },
  {
   "cell_type": "code",
   "execution_count": 9,
   "metadata": {},
   "outputs": [],
   "source": [
    "def binaire_hexa(binaire):\n",
    "    if len(binaire) % 4 != 0:\n",
    "        nb_zeros_a_ajouter = 4 - len(binaire) % 4\n",
    "        binaire = '0' * nb_zeros_a_ajouter + binaire\n",
    "    binaire = [binaire[i*4:(i+1)*4] for i in range(len(binaire)//4)]\n",
    "    return ''.join(bin_hex[bin_chunk] for bin_chunk in binaire)"
   ]
  },
  {
   "cell_type": "code",
   "execution_count": 10,
   "metadata": {},
   "outputs": [
    {
     "name": "stdout",
     "output_type": "stream",
     "text": [
      "11011001_(2) = D9_(16)\n",
      "1111111_(2) = 7F_(16)\n",
      "101111011001_(2) = BD9_(16)\n",
      "111011_(2) = 3B_(16)\n"
     ]
    }
   ],
   "source": [
    "for binaire in ['11011001', '1111111', '101111011001', '111011']:\n",
    "    print(f\"{binaire}_(2) = {binaire_hexa(binaire)}_(16)\")"
   ]
  },
  {
   "cell_type": "code",
   "execution_count": 11,
   "metadata": {},
   "outputs": [
    {
     "data": {
      "text/plain": [
       "{'0': '0000',\n",
       " '1': '0001',\n",
       " '2': '0010',\n",
       " '3': '0011',\n",
       " '4': '0100',\n",
       " '5': '0101',\n",
       " '6': '0110',\n",
       " '7': '0111',\n",
       " '8': '1000',\n",
       " '9': '1001',\n",
       " 'A': '1010',\n",
       " 'B': '1011',\n",
       " 'C': '1100',\n",
       " 'D': '1101',\n",
       " 'E': '1110',\n",
       " 'F': '1111'}"
      ]
     },
     "execution_count": 11,
     "metadata": {},
     "output_type": "execute_result"
    }
   ],
   "source": [
    "hex_bin = {valeur : clef for clef, valeur in bin_hex.items()}\n",
    "hex_bin"
   ]
  },
  {
   "cell_type": "code",
   "execution_count": 12,
   "metadata": {},
   "outputs": [],
   "source": [
    "def hexa_binaire(hexa):\n",
    "    if hexa == '0':\n",
    "        return '0'\n",
    "    else:\n",
    "        binaire = ''.join([hex_bin[clef] for clef in hexa])\n",
    "        i = 0\n",
    "        while binaire[i] == '0':\n",
    "            i += 1\n",
    "    return binaire[i:]"
   ]
  },
  {
   "cell_type": "code",
   "execution_count": 13,
   "metadata": {},
   "outputs": [
    {
     "name": "stdout",
     "output_type": "stream",
     "text": [
      "D9_(16) = 11011001_(2)\n",
      "7F_(16) = 1111111_(2)\n",
      "BD9_(16) = 101111011001_(2)\n",
      "1A3E_(16) = 1101000111110_(2)\n"
     ]
    }
   ],
   "source": [
    "for hexa in ['D9', '7F', 'BD9', '1A3E']:\n",
    "    print(f\"{hexa}_(16) = {hexa_binaire(hexa)}_(2)\")"
   ]
  },
  {
   "cell_type": "markdown",
   "metadata": {},
   "source": [
    "# Conversion décimal héxadécimal"
   ]
  },
  {
   "cell_type": "code",
   "execution_count": 14,
   "metadata": {},
   "outputs": [],
   "source": [
    "dec_hexa = {0 : '0',\n",
    "            1 : '1',\n",
    "            2 : '2',\n",
    "            3 : '3',\n",
    "            4 : '4',\n",
    "            5 : '5',\n",
    "            6 : '6',\n",
    "            7 : '7',\n",
    "            8 : '8',\n",
    "            9 : '9',\n",
    "            10 : 'A',\n",
    "            11 : 'B',\n",
    "            12 : 'C',\n",
    "            13 : 'D',\n",
    "            14 : 'E',\n",
    "            15 : 'F',\n",
    "           }"
   ]
  },
  {
   "cell_type": "code",
   "execution_count": 15,
   "metadata": {},
   "outputs": [],
   "source": [
    "def conversion_decimal_hexa(quotient):\n",
    "    if quotient == 0:\n",
    "        return '0'\n",
    "    else:\n",
    "        hexa = ''\n",
    "        while quotient != 0:\n",
    "            hexa += dec_hexa[quotient % 16]\n",
    "            quotient //= 16\n",
    "        return hexa[::-1]"
   ]
  },
  {
   "cell_type": "code",
   "execution_count": 16,
   "metadata": {},
   "outputs": [
    {
     "name": "stdout",
     "output_type": "stream",
     "text": [
      "185_(10) = B9_(16)\n",
      "1387_(10) = 56B_(16)\n"
     ]
    }
   ],
   "source": [
    "for decimal in [185, 1387]:\n",
    "    print(f\"{decimal}_(10) = {conversion_decimal_hexa(decimal)}_(16)\")"
   ]
  },
  {
   "cell_type": "markdown",
   "metadata": {},
   "source": [
    "# Conversion héxadécimal décimal"
   ]
  },
  {
   "cell_type": "code",
   "execution_count": 17,
   "metadata": {},
   "outputs": [
    {
     "data": {
      "text/plain": [
       "{'0': 0,\n",
       " '1': 1,\n",
       " '2': 2,\n",
       " '3': 3,\n",
       " '4': 4,\n",
       " '5': 5,\n",
       " '6': 6,\n",
       " '7': 7,\n",
       " '8': 8,\n",
       " '9': 9,\n",
       " 'A': 10,\n",
       " 'B': 11,\n",
       " 'C': 12,\n",
       " 'D': 13,\n",
       " 'E': 14,\n",
       " 'F': 15}"
      ]
     },
     "execution_count": 17,
     "metadata": {},
     "output_type": "execute_result"
    }
   ],
   "source": [
    "hexa_dec = {valeur : clef for clef, valeur in dec_hexa.items()}\n",
    "hexa_dec"
   ]
  },
  {
   "cell_type": "code",
   "execution_count": 18,
   "metadata": {},
   "outputs": [],
   "source": [
    "def conversion_hexa_decimal(hexa):\n",
    "    return sum([hexa_dec[hexa[-1-i]] * 16**i for i in range(len(hexa))])"
   ]
  },
  {
   "cell_type": "code",
   "execution_count": 19,
   "metadata": {},
   "outputs": [
    {
     "name": "stdout",
     "output_type": "stream",
     "text": [
      "B9_(16) = 185_(10)\n",
      "56B_(16) = 1387_(10)\n",
      "1B87_(16) = 7047_(10)\n"
     ]
    }
   ],
   "source": [
    "for hexa in ['B9', '56B', '1B87']:\n",
    "    print(f\"{hexa}_(16) = {conversion_hexa_decimal(hexa)}_(10)\")"
   ]
  }
 ],
 "metadata": {
  "kernelspec": {
   "display_name": "Python 3",
   "language": "python",
   "name": "python3"
  },
  "language_info": {
   "codemirror_mode": {
    "name": "ipython",
    "version": 3
   },
   "file_extension": ".py",
   "mimetype": "text/x-python",
   "name": "python",
   "nbconvert_exporter": "python",
   "pygments_lexer": "ipython3",
   "version": "3.7.3"
  }
 },
 "nbformat": 4,
 "nbformat_minor": 2
}
