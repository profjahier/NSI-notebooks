{
 "cells": [
  {
   "cell_type": "markdown",
   "metadata": {},
   "source": [
    "# Déterminer la composition à l'état final d'un système siège d'une transformation chimique totale à l'aide d'un langage de programmation"
   ]
  },
  {
   "cell_type": "markdown",
   "metadata": {},
   "source": [
    "### Équation de la réaction\n",
    "a A + b B -> c C + d D"
   ]
  },
  {
   "cell_type": "markdown",
   "metadata": {},
   "source": [
    "Les réactifs et produits sont enregistrés dans des listes"
   ]
  },
  {
   "cell_type": "code",
   "execution_count": 1,
   "metadata": {},
   "outputs": [],
   "source": [
    "reactifs = ['CH4', 'H2O']\n",
    "produits = ['O2', 'CO2']"
   ]
  },
  {
   "cell_type": "markdown",
   "metadata": {},
   "source": [
    "On enregistre une équation de réaction dans un dictionnaire qui prend les noms des réactifs et produits comme clefs et les nombre stoechiométriques commes valeurs. \n",
    "\n",
    "Les nombres sotechiométriques des produits sont comptés négativement pour faciliter le traitement ultérieur des données. \n",
    "\n",
    "On peut alors écrire `n = ni - coeff * x` pour toutes lespèces chimiques."
   ]
  },
  {
   "cell_type": "code",
   "execution_count": 2,
   "metadata": {},
   "outputs": [
    {
     "name": "stdout",
     "output_type": "stream",
     "text": [
      "{'CH4': 1, 'H2O': 2, 'O2': -2, 'CO2': -1}\n"
     ]
    }
   ],
   "source": [
    "equation = {'CH4' : 1, 'H2O' : 2, 'O2' : -2, 'CO2' : -1}\n",
    "print(equation)"
   ]
  },
  {
   "cell_type": "markdown",
   "metadata": {},
   "source": [
    "Les quantites de matière sont enregistrées dans un dictionnaire avec les mêmes clefs que l'équation, et les quatités de matières sont les valeurs."
   ]
  },
  {
   "cell_type": "code",
   "execution_count": 3,
   "metadata": {},
   "outputs": [],
   "source": [
    "# à l'état intial :\n",
    "quantites = {'CH4' : 10, 'H2O' : 7, 'O2' : 2, 'CO2' : 0} "
   ]
  },
  {
   "cell_type": "markdown",
   "metadata": {},
   "source": [
    "On cherche quel est l'avancement xmax (réaction totale)"
   ]
  },
  {
   "cell_type": "code",
   "execution_count": 3,
   "metadata": {},
   "outputs": [],
   "source": [
    "from math import inf as infini"
   ]
  },
  {
   "cell_type": "code",
   "execution_count": 5,
   "metadata": {},
   "outputs": [],
   "source": [
    "xmax = infini # pour etre sûr que le vrai xmax sera inférieur\n",
    "for espece in reactifs:\n",
    "    xmax = min(xmax, quantites[espece] / equation[espece])"
   ]
  },
  {
   "cell_type": "markdown",
   "metadata": {},
   "source": [
    "Bilan de matière : calcul des quantités de matières à l'état final."
   ]
  },
  {
   "cell_type": "code",
   "execution_count": 6,
   "metadata": {},
   "outputs": [],
   "source": [
    "for espece in quantites.keys():    \n",
    "    quantites[espece] = quantites[espece] - equation[espece] * xmax"
   ]
  },
  {
   "cell_type": "code",
   "execution_count": 7,
   "metadata": {},
   "outputs": [
    {
     "name": "stdout",
     "output_type": "stream",
     "text": [
      "CH4 6.5\n",
      "H2O 0.0\n",
      "O2 9.0\n",
      "CO2 3.5\n"
     ]
    }
   ],
   "source": [
    "for espece, n in quantites.items():\n",
    "    print(espece, n)"
   ]
  },
  {
   "cell_type": "markdown",
   "metadata": {},
   "source": [
    "# Interaction avec l'utilisateur"
   ]
  },
  {
   "cell_type": "code",
   "execution_count": 32,
   "metadata": {},
   "outputs": [
    {
     "name": "stdout",
     "output_type": "stream",
     "text": [
      "Combien de réactifs ? 1\n",
      "Combien de produits ? 2\n"
     ]
    }
   ],
   "source": [
    "nb_reactifs = int(input('Combien de réactifs ? '))\n",
    "nb_produits = int(input('Combien de produits ? '))"
   ]
  },
  {
   "cell_type": "code",
   "execution_count": 33,
   "metadata": {},
   "outputs": [
    {
     "name": "stdout",
     "output_type": "stream",
     "text": [
      "Nom du réactif ? eau\n",
      "Nom du produit ? a\n",
      "Nom du produit ? b\n"
     ]
    }
   ],
   "source": [
    "reactifs, produits = [], []\n",
    "\n",
    "for r in range(nb_reactifs):\n",
    "    reactif = input('Nom du réactif ? ')\n",
    "    reactifs.append(reactif)\n",
    "    \n",
    "for p in range(nb_produits):\n",
    "    produit = input('Nom du produit ? ')\n",
    "    produits.append(produit)"
   ]
  },
  {
   "cell_type": "code",
   "execution_count": 34,
   "metadata": {},
   "outputs": [
    {
     "name": "stdout",
     "output_type": "stream",
     "text": [
      "Nombre stoechio de eau\n",
      "(Attention : nb négatif pour les produits) ? 1\n",
      "Nombre stoechio de a\n",
      "(Attention : nb négatif pour les produits) ? -2\n",
      "Nombre stoechio de b\n",
      "(Attention : nb négatif pour les produits) ? -1\n"
     ]
    }
   ],
   "source": [
    "equation = {}\n",
    "\n",
    "for espece in reactifs + produits:\n",
    "    nb_stoechio = eval(input(f'Nombre stoechio de {espece}\\n(Attention : nb négatif pour les produits) ? '))\n",
    "    equation[espece] = nb_stoechio"
   ]
  },
  {
   "cell_type": "code",
   "execution_count": 35,
   "metadata": {},
   "outputs": [
    {
     "name": "stdout",
     "output_type": "stream",
     "text": [
      "Quantité intiale de eau (en mol) ? 1.2\n",
      "Quantité intiale de a (en mol) ? 0\n",
      "Quantité intiale de b (en mol) ? 2.3\n"
     ]
    }
   ],
   "source": [
    "quantites_i = {}\n",
    "\n",
    "for espece in reactifs + produits:\n",
    "    n = eval(input(f'Quantité intiale de {espece} (en mol) ? '))\n",
    "    quantites_i[espece] = n"
   ]
  },
  {
   "cell_type": "code",
   "execution_count": 36,
   "metadata": {},
   "outputs": [],
   "source": [
    "# Bilan de matière\n",
    "def bilan(reactifs, equation, quantites_i):\n",
    "    xmax = infini # pour etre sûr que le vrai xmax sera inférieur\n",
    "    for espece in reactifs:\n",
    "        xmax = min(xmax, quantites_i[espece] / equation[espece])\n",
    "\n",
    "    quantites_f = {}\n",
    "    for espece in quantites_i.keys():\n",
    "        quantites_f[espece] = quantites_i[espece] - equation[espece] * xmax  \n",
    "        \n",
    "    return xmax, quantites_f"
   ]
  },
  {
   "cell_type": "code",
   "execution_count": 37,
   "metadata": {},
   "outputs": [
    {
     "name": "stdout",
     "output_type": "stream",
     "text": [
      "L'avancement max vaut xmax = 1.2 mol.\n",
      "Bilan de matière\n",
      "eau : 0.0 mol.\n",
      "a : 2.4 mol.\n",
      "b : 3.5 mol.\n"
     ]
    }
   ],
   "source": [
    "xmax, quantites_f = bilan(reactifs, equation, quantites_i)\n",
    "\n",
    "print(f\"L'avancement max vaut xmax = {xmax} mol.\")\n",
    "print(\"Bilan de matière\")\n",
    "for espece, quantite in quantites_f.items():\n",
    "    print(f\"{espece} : {quantite} mol.\")"
   ]
  },
  {
   "cell_type": "markdown",
   "metadata": {},
   "source": [
    "# Programme complet\n",
    "fonction principale : `reaction()`"
   ]
  },
  {
   "cell_type": "code",
   "execution_count": 4,
   "metadata": {},
   "outputs": [],
   "source": [
    "def reaction():\n",
    "    \"\"\" Effectue un bilan de matière sur une réaction chimique à définir \"\"\"\n",
    "    \n",
    "    nb_reactifs = int(input('Combien de réactifs ? '))\n",
    "    nb_produits = int(input('Combien de produits ? '))\n",
    "    \n",
    "    reactifs, produits = [], []\n",
    "\n",
    "    for r in range(nb_reactifs):\n",
    "        reactif = input('Nom du réactif ? ')\n",
    "        reactifs.append(reactif)\n",
    "\n",
    "    for p in range(nb_produits):\n",
    "        produit = input('Nom du produit ? ')\n",
    "        produits.append(produit)\n",
    "        \n",
    "    equation = {}\n",
    "    \n",
    "    print(f'Entrez les nombres stoechio des espèces\\nAttention : NOMBRE NÉGATIF pour les PRODUITS ')\n",
    "\n",
    "    for espece in reactifs + produits:\n",
    "        nb_stoechio = eval(input(f'Nombre stoechio de {espece} ? '))\n",
    "        equation[espece] = nb_stoechio\n",
    "        \n",
    "    quantites_i = {}\n",
    "\n",
    "    for espece in reactifs + produits:\n",
    "        n = eval(input(f'Quantité intiale de {espece} (en mol) ? '))\n",
    "        quantites_i[espece] = n\n",
    "        \n",
    "    xmax = infini # pour etre sûr que le vrai xmax sera inférieur\n",
    "    for espece in reactifs:\n",
    "        xmax = min(xmax, quantites_i[espece] / equation[espece])\n",
    "\n",
    "    quantites_f = {}\n",
    "    for espece in quantites_i.keys():\n",
    "        quantites_f[espece] = quantites_i[espece] - equation[espece] * xmax  \n",
    "\n",
    "    print(f\"\\nL'avancement final vaut xmax = {xmax} mol.\")\n",
    "    print(\"\\nBilan de matière :\")\n",
    "    for espece, quantite in quantites_f.items():\n",
    "        print(f\"{espece} : {quantite} mol.\")"
   ]
  },
  {
   "cell_type": "code",
   "execution_count": 5,
   "metadata": {},
   "outputs": [
    {
     "name": "stdout",
     "output_type": "stream",
     "text": [
      "Combien de réactifs ? 2\n",
      "Combien de produits ? 1\n",
      "Nom du réactif ? toto\n",
      "Nom du réactif ? titi\n",
      "Nom du produit ? h2o\n",
      "Entrez les nombres stoechio des espèces\n",
      "Attention : NOMBRE NÉGATIF pour les PRODUITS \n",
      "Nombre stoechio de toto ? 1\n",
      "Nombre stoechio de titi ? 2\n",
      "Nombre stoechio de h2o ? -1\n",
      "Quantité intiale de toto (en mol) ? 12\n",
      "Quantité intiale de titi (en mol) ? 15\n",
      "Quantité intiale de h2o (en mol) ? 0\n",
      "\n",
      "L'avancement final vaut xmax = 7.5 mol.\n",
      "\n",
      "Bilan de matière :\n",
      "toto : 4.5 mol.\n",
      "titi : 0.0 mol.\n",
      "h2o : 7.5 mol.\n"
     ]
    }
   ],
   "source": [
    "# exemple:\n",
    "reaction()"
   ]
  },
  {
   "cell_type": "code",
   "execution_count": null,
   "metadata": {},
   "outputs": [],
   "source": []
  }
 ],
 "metadata": {
  "kernelspec": {
   "display_name": "Python 3",
   "language": "python",
   "name": "python3"
  },
  "language_info": {
   "codemirror_mode": {
    "name": "ipython",
    "version": 3
   },
   "file_extension": ".py",
   "mimetype": "text/x-python",
   "name": "python",
   "nbconvert_exporter": "python",
   "pygments_lexer": "ipython3",
   "version": "3.7.3"
  }
 },
 "nbformat": 4,
 "nbformat_minor": 2
}
